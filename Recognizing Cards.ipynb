{
 "cells": [
  {
   "cell_type": "code",
   "execution_count": 1,
   "metadata": {},
   "outputs": [
    {
     "name": "stderr",
     "output_type": "stream",
     "text": [
      "/Users/memetral/opt/anaconda3/lib/python3.9/site-packages/torchvision/io/image.py:13: UserWarning: Failed to load image Python extension: 'dlopen(/Users/memetral/opt/anaconda3/lib/python3.9/site-packages/torchvision/image.so, 0x0006): Symbol not found: __ZN3c106detail19maybe_wrap_dim_slowIxEET_S2_S2_b\n",
      "  Referenced from: <248833C6-5096-36BC-A292-7EFB494EA582> /Users/memetral/opt/anaconda3/lib/python3.9/site-packages/torchvision/image.so\n",
      "  Expected in:     <1E9FA061-EA31-3736-81D0-79A33B965097> /Users/memetral/opt/anaconda3/lib/python3.9/site-packages/torch/lib/libc10.dylib'If you don't plan on using image functionality from `torchvision.io`, you can ignore this warning. Otherwise, there might be something wrong with your environment. Did you have `libjpeg` or `libpng` installed before building `torchvision` from source?\n",
      "  warn(\n"
     ]
    }
   ],
   "source": [
    "import os\n",
    "%conda install -Uqq fastai\n",
    "%conda install -Uqq timm\n",
    "    \n",
    "import timm\n",
    "from fastai.vision.all import *\n",
    "from fastdownload import download_url\n",
    "from fastcore.all import *\n",
    "from time import sleep\n",
    "\n",
    "model = 'convnext_tiny_in22k'"
   ]
  },
  {
   "attachments": {},
   "cell_type": "markdown",
   "metadata": {},
   "source": [
    "# Introduction\n",
    "\n",
    "Every few years I take some portion of the wonderful fast.ai Practical Deep Learning for Coders course. Then I sit down to try and solve a very simple problem, get stuck, try and get help and have others shrug their shoulders and then eventually give up. This is just the next round of that. Sooner or later the systems will be good enough, is it now!?!\n",
    "\n",
    "The goal is to classify cards from the game of SET. Each card has a color, a shape, a number of that shape and a fill pattern of the shape. So we need a classification system. Traditional CV would work fine, but is a pain to get right in terms of lighting and all that stuff. This SHOULD be a piece of cake for deep learning."
   ]
  },
  {
   "cell_type": "code",
   "execution_count": 2,
   "metadata": {},
   "outputs": [],
   "source": [
    "colorAttr = using_attr(RegexLabeller(r'_(red|green|purple)-'), 'name')\n",
    "shapeAttr = using_attr(RegexLabeller(r'-(diamond|oval|squiggle)-'), 'name')\n",
    "fillAttr = using_attr(RegexLabeller(r'-(empty|filled|hashed)-'), 'name')\n",
    "countAttr = using_attr(RegexLabeller(r'-(single|double|triple).'), 'name')\n",
    "exPath = Path(\"board2_red-diamond-hashed-single.png\")\n",
    "test_eq(colorAttr(exPath), 'red')\n",
    "test_eq(shapeAttr(exPath), 'diamond')\n",
    "test_eq(fillAttr(exPath), 'hashed')\n",
    "test_eq(countAttr(exPath), 'single')"
   ]
  },
  {
   "cell_type": "code",
   "execution_count": 3,
   "metadata": {},
   "outputs": [],
   "source": [
    "colorBlock = DataBlock( \n",
    "    blocks=(ImageBlock, CategoryBlock), \n",
    "    get_items=get_image_files, \n",
    "    splitter=RandomSplitter(valid_pct=0.2, seed=42),\n",
    "    get_y=colorAttr,\n",
    "    item_tfms=[Resize(192, method='squish')],\n",
    "    batch_tfms=[DihedralItem,\n",
    "                RandomResizedCrop(64,ratio=(.25,2)),\n",
    "                Flip, \n",
    "                Rotate,\n",
    "                Zoom(.8,1.2),\n",
    "                Warp,\n",
    "                Brightness,\n",
    "                Contrast,\n",
    "                Saturation]\n",
    ").dataloaders('./images/train/', bs=16)\n",
    "# colorBlock.show_batch(max_n=60)"
   ]
  },
  {
   "cell_type": "code",
   "execution_count": 4,
   "metadata": {},
   "outputs": [],
   "source": [
    "colorLearner = vision_learner(colorBlock, model, metrics=error_rate)\n",
    "colorLearner.fine_tune(20)"
   ]
  }
 ],
 "metadata": {
  "kernelspec": {
   "display_name": "base",
   "language": "python",
   "name": "python3"
  },
  "language_info": {
   "codemirror_mode": {
    "name": "ipython",
    "version": 3
   },
   "file_extension": ".py",
   "mimetype": "text/x-python",
   "name": "python",
   "nbconvert_exporter": "python",
   "pygments_lexer": "ipython3",
   "version": "3.9.13"
  },
  "orig_nbformat": 4,
  "vscode": {
   "interpreter": {
    "hash": "350d77d633f603cc89148022faa3b51618dfb2b81c8f9b1ee6732f51ad8500f4"
   }
  }
 },
 "nbformat": 4,
 "nbformat_minor": 2
}
